{
 "cells": [
  {
   "cell_type": "markdown",
   "id": "bf2ada2a-eace-4119-9b72-d1793f17bba0",
   "metadata": {},
   "source": [
    "# **Appendix 1 - Feature engineering**"
   ]
  },
  {
   "cell_type": "markdown",
   "id": "8eb0a2e1",
   "metadata": {},
   "source": [
    "# <span style=\"color:#FF9999\">**1 Missing values**</span>"
   ]
  },
  {
   "cell_type": "code",
   "execution_count": 1,
   "id": "b5089277",
   "metadata": {},
   "outputs": [],
   "source": [
    "# Import libraries\n",
    "import pandas as pd\n",
    "import seaborn as sns\n",
    "import numpy as np\n",
    "import missingno as msno\n",
    "import matplotlib.pyplot as plt\n",
    "from IPython.display import display"
   ]
  },
  {
   "cell_type": "code",
   "execution_count": 2,
   "id": "6ab621ea",
   "metadata": {},
   "outputs": [],
   "source": [
    "# Read Stage 1 and sort variables alphabetically\n",
    "df_raw = pd.read_csv('../data/Stage_1.csv')\n",
    "df = df_raw.reindex(sorted(df_raw.columns), axis=1)"
   ]
  },
  {
   "cell_type": "markdown",
   "id": "50a60e87",
   "metadata": {},
   "source": [
    "## **1.1 Exclusion of snowshoe-only routes**"
   ]
  },
  {
   "cell_type": "markdown",
   "id": "10bc6c0c",
   "metadata": {},
   "source": [
    "A route from the data set can have one of the following three characteristics:\n",
    "\n",
    "- Skitour-only ('ski' = 1, 'snowshoe' = 0)\n",
    "- Snowshoetour-only ('ski' = 0, 'snowshoe' = 1)\n",
    "- Skitour and snowshoetour ('ski' = 1, 'snowshoe' = 1)\n",
    "\n",
    "Check, if the snowshoe-only tours are excluded (output has to be 0):"
   ]
  },
  {
   "cell_type": "code",
   "execution_count": 3,
   "id": "4b0128d9",
   "metadata": {},
   "outputs": [
    {
     "name": "stdout",
     "output_type": "stream",
     "text": [
      "0\n"
     ]
    }
   ],
   "source": [
    "count = len(df[(df['snowshoe'] == 1) & (df['ski'] == 0)])\n",
    "print(count)"
   ]
  },
  {
   "cell_type": "markdown",
   "id": "bd1bf496",
   "metadata": {},
   "source": [
    "## **1.2 Missingness - absolute and relative**\n",
    "## Routes in Switzerland and nearby border areas"
   ]
  },
  {
   "cell_type": "markdown",
   "id": "9e6bac09",
   "metadata": {},
   "source": [
    "- The dataframe has 1'955'978 observations (rows).\n",
    "- The variables 'crevasse', 'street' and 'country' have NAs > 10%, but are easy to handle (imputation). The replacement will be adressed in the imputation chapter.\n",
    "- The variables 'slope', 'fd', 'forest 'ele', 'fold', 'ti', 'fd_maxv', 'planc7' and 'aspect' have NAs below 1%."
   ]
  },
  {
   "cell_type": "code",
   "execution_count": 4,
   "id": "96da1f7d",
   "metadata": {},
   "outputs": [
    {
     "name": "stdout",
     "output_type": "stream",
     "text": [
      "n Rows: 1955978\n"
     ]
    }
   ],
   "source": [
    "# Count total observations\n",
    "total_rows = df.shape[0]\n",
    "print('n Rows:', total_rows)"
   ]
  },
  {
   "cell_type": "code",
   "execution_count": 5,
   "id": "3d1f316d",
   "metadata": {},
   "outputs": [
    {
     "data": {
      "text/html": [
       "<div>\n",
       "<style scoped>\n",
       "    .dataframe tbody tr th:only-of-type {\n",
       "        vertical-align: middle;\n",
       "    }\n",
       "\n",
       "    .dataframe tbody tr th {\n",
       "        vertical-align: top;\n",
       "    }\n",
       "\n",
       "    .dataframe thead th {\n",
       "        text-align: right;\n",
       "    }\n",
       "</style>\n",
       "<table border=\"1\" class=\"dataframe\">\n",
       "  <thead>\n",
       "    <tr style=\"text-align: right;\">\n",
       "      <th></th>\n",
       "      <th>NAs (abs.)</th>\n",
       "      <th>NAs (rel.)</th>\n",
       "    </tr>\n",
       "  </thead>\n",
       "  <tbody>\n",
       "    <tr>\n",
       "      <th>caution</th>\n",
       "      <td>0</td>\n",
       "      <td>0.0</td>\n",
       "    </tr>\n",
       "    <tr>\n",
       "      <th>snowshoe</th>\n",
       "      <td>0</td>\n",
       "      <td>0.0</td>\n",
       "    </tr>\n",
       "    <tr>\n",
       "      <th>foot</th>\n",
       "      <td>0</td>\n",
       "      <td>0.0</td>\n",
       "    </tr>\n",
       "    <tr>\n",
       "      <th>ski</th>\n",
       "      <td>0</td>\n",
       "      <td>0.0</td>\n",
       "    </tr>\n",
       "    <tr>\n",
       "      <th>glacier</th>\n",
       "      <td>0</td>\n",
       "      <td>0.0</td>\n",
       "    </tr>\n",
       "    <tr>\n",
       "      <th>id</th>\n",
       "      <td>0</td>\n",
       "      <td>0.0</td>\n",
       "    </tr>\n",
       "    <tr>\n",
       "      <th>lake</th>\n",
       "      <td>0</td>\n",
       "      <td>0.0</td>\n",
       "    </tr>\n",
       "    <tr>\n",
       "      <th>forest</th>\n",
       "      <td>7151</td>\n",
       "      <td>0.366</td>\n",
       "    </tr>\n",
       "    <tr>\n",
       "      <th>slope</th>\n",
       "      <td>7151</td>\n",
       "      <td>0.366</td>\n",
       "    </tr>\n",
       "    <tr>\n",
       "      <th>ele</th>\n",
       "      <td>7151</td>\n",
       "      <td>0.366</td>\n",
       "    </tr>\n",
       "    <tr>\n",
       "      <th>fd</th>\n",
       "      <td>7151</td>\n",
       "      <td>0.366</td>\n",
       "    </tr>\n",
       "    <tr>\n",
       "      <th>planc7</th>\n",
       "      <td>7219</td>\n",
       "      <td>0.369</td>\n",
       "    </tr>\n",
       "    <tr>\n",
       "      <th>fold</th>\n",
       "      <td>8219</td>\n",
       "      <td>0.42</td>\n",
       "    </tr>\n",
       "    <tr>\n",
       "      <th>fd_maxv</th>\n",
       "      <td>9064</td>\n",
       "      <td>0.463</td>\n",
       "    </tr>\n",
       "    <tr>\n",
       "      <th>ti</th>\n",
       "      <td>9130</td>\n",
       "      <td>0.467</td>\n",
       "    </tr>\n",
       "    <tr>\n",
       "      <th>aspect</th>\n",
       "      <td>9204</td>\n",
       "      <td>0.471</td>\n",
       "    </tr>\n",
       "    <tr>\n",
       "      <th>country</th>\n",
       "      <td>295039</td>\n",
       "      <td>15.084</td>\n",
       "    </tr>\n",
       "    <tr>\n",
       "      <th>street</th>\n",
       "      <td>1497424</td>\n",
       "      <td>76.556</td>\n",
       "    </tr>\n",
       "    <tr>\n",
       "      <th>crevasse</th>\n",
       "      <td>1776372</td>\n",
       "      <td>90.818</td>\n",
       "    </tr>\n",
       "  </tbody>\n",
       "</table>\n",
       "</div>"
      ],
      "text/plain": [
       "          NAs (abs.) NAs (rel.)\n",
       "caution            0        0.0\n",
       "snowshoe           0        0.0\n",
       "foot               0        0.0\n",
       "ski                0        0.0\n",
       "glacier            0        0.0\n",
       "id                 0        0.0\n",
       "lake               0        0.0\n",
       "forest          7151      0.366\n",
       "slope           7151      0.366\n",
       "ele             7151      0.366\n",
       "fd              7151      0.366\n",
       "planc7          7219      0.369\n",
       "fold            8219       0.42\n",
       "fd_maxv         9064      0.463\n",
       "ti              9130      0.467\n",
       "aspect          9204      0.471\n",
       "country       295039     15.084\n",
       "street       1497424     76.556\n",
       "crevasse     1776372     90.818"
      ]
     },
     "metadata": {},
     "output_type": "display_data"
    }
   ],
   "source": [
    "# Table with NAs (Switzerland + Abroad)\n",
    "missing_info = {\n",
    "    col: [df[col].isnull().sum(), f'{np.round(np.mean(df[col].isnull()*100), 3)}'] \n",
    "    if df[col].isnull().any() \n",
    "    else [0, '0.0']\n",
    "    for col in df.columns\n",
    "}\n",
    "\n",
    "missing_df = pd.DataFrame.from_dict(missing_info, orient='index', columns=['NAs (abs.)', 'NAs (rel.)'])\n",
    "display(missing_df.sort_values(by=['NAs (abs.)'], ascending=True))"
   ]
  },
  {
   "cell_type": "code",
   "execution_count": 6,
   "id": "b8ab7ecb",
   "metadata": {},
   "outputs": [
    {
     "data": {
      "image/png": "[encoded data removed]",
      "text/plain": [
       "<Figure size 925.25x432 with 1 Axes>"
      ]
     },
     "metadata": {
      "needs_background": "light"
     },
     "output_type": "display_data"
    }
   ],
   "source": [
    "# Plot NAs\n",
    "colours = ['#ADD8E6', '#FF9999'] \n",
    "\n",
    "grid = sns.displot(\n",
    "    data=df.isnull().melt(value_name='missing'),\n",
    "    y='variable',\n",
    "    hue='missing',\n",
    "    multiple='fill',\n",
    "    height=6,\n",
    "    aspect=2,\n",
    "    palette=colours\n",
    ")\n",
    "\n",
    "plt.axvline(0.025, color='b') # 2.5% boundary\n",
    "\n",
    "plt.show()\n",
    "grid.savefig('../plots/missing_values.png')"
   ]
  },
  {
   "cell_type": "markdown",
   "id": "7067d74a",
   "metadata": {},
   "source": [
    "## Routes only in Switzerland (ex. border areas)"
   ]
  },
  {
   "cell_type": "markdown",
   "id": "544ec2f8",
   "metadata": {},
   "source": [
    "- According to the interview results and consultation with Günter Schmudlach, only data points in Switzerland are used for modelling. The neighbouring countries will be excluded because the data quality there is not sufficiently good.\n",
    "- The dataframe with the datapoints only in Switzerland (ex. border areas) has 1'660'939 observations. \n",
    "- Therefore, 295'039 (15%) observations abroad were excluded.\n",
    "- The variables 'crevasse' and 'street' still have NAs > 10%, but are easy to handle (imputation). The replacement will be adressed in the imputation chapter.\n",
    "- The variables 'slope', 'fd', 'forest', 'ele', 'fd_maxv', 'planc7' are now all complete and do not have any missing values anymore.\n",
    "- The variables 'fold', 'ti'  and 'aspect' have NAs below 0.1%."
   ]
  },
  {
   "cell_type": "code",
   "execution_count": 7,
   "id": "bb3e2726",
   "metadata": {},
   "outputs": [
    {
     "name": "stdout",
     "output_type": "stream",
     "text": [
      "n Rows: 1660939\n"
     ]
    }
   ],
   "source": [
    "# Exclude datapoints abroad\n",
    "df = df.dropna(subset=['country'])\n",
    "\n",
    "# Count total observations\n",
    "total_rows = df.shape[0]\n",
    "print('n Rows:', total_rows)"
   ]
  },
  {
   "cell_type": "code",
   "execution_count": 8,
   "id": "15c697f9",
   "metadata": {},
   "outputs": [
    {
     "data": {
      "text/html": [
       "<div>\n",
       "<style scoped>\n",
       "    .dataframe tbody tr th:only-of-type {\n",
       "        vertical-align: middle;\n",
       "    }\n",
       "\n",
       "    .dataframe tbody tr th {\n",
       "        vertical-align: top;\n",
       "    }\n",
       "\n",
       "    .dataframe thead th {\n",
       "        text-align: right;\n",
       "    }\n",
       "</style>\n",
       "<table border=\"1\" class=\"dataframe\">\n",
       "  <thead>\n",
       "    <tr style=\"text-align: right;\">\n",
       "      <th></th>\n",
       "      <th>NAs (abs.)</th>\n",
       "      <th>NAs (rel.)</th>\n",
       "    </tr>\n",
       "  </thead>\n",
       "  <tbody>\n",
       "    <tr>\n",
       "      <th>forest</th>\n",
       "      <td>0</td>\n",
       "      <td>0.0</td>\n",
       "    </tr>\n",
       "    <tr>\n",
       "      <th>caution</th>\n",
       "      <td>0</td>\n",
       "      <td>0.0</td>\n",
       "    </tr>\n",
       "    <tr>\n",
       "      <th>country</th>\n",
       "      <td>0</td>\n",
       "      <td>0.0</td>\n",
       "    </tr>\n",
       "    <tr>\n",
       "      <th>snowshoe</th>\n",
       "      <td>0</td>\n",
       "      <td>0.0</td>\n",
       "    </tr>\n",
       "    <tr>\n",
       "      <th>ele</th>\n",
       "      <td>0</td>\n",
       "      <td>0.0</td>\n",
       "    </tr>\n",
       "    <tr>\n",
       "      <th>fd</th>\n",
       "      <td>0</td>\n",
       "      <td>0.0</td>\n",
       "    </tr>\n",
       "    <tr>\n",
       "      <th>fd_maxv</th>\n",
       "      <td>0</td>\n",
       "      <td>0.0</td>\n",
       "    </tr>\n",
       "    <tr>\n",
       "      <th>slope</th>\n",
       "      <td>0</td>\n",
       "      <td>0.0</td>\n",
       "    </tr>\n",
       "    <tr>\n",
       "      <th>foot</th>\n",
       "      <td>0</td>\n",
       "      <td>0.0</td>\n",
       "    </tr>\n",
       "    <tr>\n",
       "      <th>ski</th>\n",
       "      <td>0</td>\n",
       "      <td>0.0</td>\n",
       "    </tr>\n",
       "    <tr>\n",
       "      <th>glacier</th>\n",
       "      <td>0</td>\n",
       "      <td>0.0</td>\n",
       "    </tr>\n",
       "    <tr>\n",
       "      <th>id</th>\n",
       "      <td>0</td>\n",
       "      <td>0.0</td>\n",
       "    </tr>\n",
       "    <tr>\n",
       "      <th>lake</th>\n",
       "      <td>0</td>\n",
       "      <td>0.0</td>\n",
       "    </tr>\n",
       "    <tr>\n",
       "      <th>planc7</th>\n",
       "      <td>0</td>\n",
       "      <td>0.0</td>\n",
       "    </tr>\n",
       "    <tr>\n",
       "      <th>ti</th>\n",
       "      <td>82</td>\n",
       "      <td>0.005</td>\n",
       "    </tr>\n",
       "    <tr>\n",
       "      <th>fold</th>\n",
       "      <td>229</td>\n",
       "      <td>0.014</td>\n",
       "    </tr>\n",
       "    <tr>\n",
       "      <th>aspect</th>\n",
       "      <td>1010</td>\n",
       "      <td>0.061</td>\n",
       "    </tr>\n",
       "    <tr>\n",
       "      <th>street</th>\n",
       "      <td>1255102</td>\n",
       "      <td>75.566</td>\n",
       "    </tr>\n",
       "    <tr>\n",
       "      <th>crevasse</th>\n",
       "      <td>1518702</td>\n",
       "      <td>91.436</td>\n",
       "    </tr>\n",
       "  </tbody>\n",
       "</table>\n",
       "</div>"
      ],
      "text/plain": [
       "          NAs (abs.) NAs (rel.)\n",
       "forest             0        0.0\n",
       "caution            0        0.0\n",
       "country            0        0.0\n",
       "snowshoe           0        0.0\n",
       "ele                0        0.0\n",
       "fd                 0        0.0\n",
       "fd_maxv            0        0.0\n",
       "slope              0        0.0\n",
       "foot               0        0.0\n",
       "ski                0        0.0\n",
       "glacier            0        0.0\n",
       "id                 0        0.0\n",
       "lake               0        0.0\n",
       "planc7             0        0.0\n",
       "ti                82      0.005\n",
       "fold             229      0.014\n",
       "aspect          1010      0.061\n",
       "street       1255102     75.566\n",
       "crevasse     1518702     91.436"
      ]
     },
     "metadata": {},
     "output_type": "display_data"
    }
   ],
   "source": [
    "# Exclude datapoints abroad\n",
    "missing_info = {\n",
    "    col: [df[col].isnull().sum(), f'{np.round(np.mean(df[col].isnull()*100), 3)}'] \n",
    "    if df[col].isnull().any() \n",
    "    else [0, '0.0']\n",
    "    for col in df.columns\n",
    "}\n",
    "\n",
    "missing_df = pd.DataFrame.from_dict(missing_info, orient='index', columns=['NAs (abs.)', 'NAs (rel.)'])\n",
    "display(missing_df.sort_values(by=['NAs (abs.)'], ascending=True))"
   ]
  },
  {
   "cell_type": "markdown",
   "id": "30a07e94",
   "metadata": {},
   "source": [
    "## Routes only in Switzerland without lakes (ex. border areas, ex. lakes)"
   ]
  },
  {
   "cell_type": "markdown",
   "id": "58d9eaff",
   "metadata": {},
   "source": [
    "- In consultation with Günter Schmudlach, the data points that lie on a lake should not be taken into account for modelling. The binary variable ‘lake’ is therefore used as filter. Only observations with ‘lake’ = 0 are taken into account. Observations with ‘lake’ = 1 were filtered.\n",
    "- Therefore, further 4'220 (0.25%) observations were excluded. The data set now contains 1'656'719 remaining observations. \n",
    "- As can be seen below, all missing values of the variables ‘fold’ and ‘aspect’ are attributable to data points with ‘lake’ = 1. Filtering therefore has the additional advantage that the number of NAs in the three variables ‘fold’ and ‘aspect’ can be reduced to 0.\n",
    "- For ‘ti’ there is one single (!) data point for which there is still a missing value. The replacement of this misisng values is adressed in the chapter imputation.\n",
    "- The variables 'crevasse' and 'street' still have NAs > 10%, but are easy to handle (imputation). The replacement of these missing values will also be adressed in the chapter imputation."
   ]
  },
  {
   "cell_type": "code",
   "execution_count": 9,
   "id": "0bf89c97",
   "metadata": {},
   "outputs": [],
   "source": [
    "# Filter variable 'lake' (exclude observations where 'lake' = 1)\n",
    "df = df[df['lake'] != 1]"
   ]
  },
  {
   "cell_type": "code",
   "execution_count": 10,
   "id": "a740d0d4",
   "metadata": {},
   "outputs": [
    {
     "name": "stdout",
     "output_type": "stream",
     "text": [
      "n Rows: 1656719\n"
     ]
    }
   ],
   "source": [
    "# Count total observations\n",
    "total_rows = df.shape[0]\n",
    "\n",
    "print('n Rows:', total_rows)"
   ]
  },
  {
   "cell_type": "code",
   "execution_count": 11,
   "id": "e9c58311",
   "metadata": {},
   "outputs": [
    {
     "data": {
      "text/html": [
       "<div>\n",
       "<style scoped>\n",
       "    .dataframe tbody tr th:only-of-type {\n",
       "        vertical-align: middle;\n",
       "    }\n",
       "\n",
       "    .dataframe tbody tr th {\n",
       "        vertical-align: top;\n",
       "    }\n",
       "\n",
       "    .dataframe thead th {\n",
       "        text-align: right;\n",
       "    }\n",
       "</style>\n",
       "<table border=\"1\" class=\"dataframe\">\n",
       "  <thead>\n",
       "    <tr style=\"text-align: right;\">\n",
       "      <th></th>\n",
       "      <th>NAs (abs.)</th>\n",
       "      <th>NAs (rel.)</th>\n",
       "    </tr>\n",
       "  </thead>\n",
       "  <tbody>\n",
       "    <tr>\n",
       "      <th>aspect</th>\n",
       "      <td>0</td>\n",
       "      <td>0.0</td>\n",
       "    </tr>\n",
       "    <tr>\n",
       "      <th>snowshoe</th>\n",
       "      <td>0</td>\n",
       "      <td>0.0</td>\n",
       "    </tr>\n",
       "    <tr>\n",
       "      <th>slope</th>\n",
       "      <td>0</td>\n",
       "      <td>0.0</td>\n",
       "    </tr>\n",
       "    <tr>\n",
       "      <th>ski</th>\n",
       "      <td>0</td>\n",
       "      <td>0.0</td>\n",
       "    </tr>\n",
       "    <tr>\n",
       "      <th>planc7</th>\n",
       "      <td>0</td>\n",
       "      <td>0.0</td>\n",
       "    </tr>\n",
       "    <tr>\n",
       "      <th>lake</th>\n",
       "      <td>0</td>\n",
       "      <td>0.0</td>\n",
       "    </tr>\n",
       "    <tr>\n",
       "      <th>id</th>\n",
       "      <td>0</td>\n",
       "      <td>0.0</td>\n",
       "    </tr>\n",
       "    <tr>\n",
       "      <th>glacier</th>\n",
       "      <td>0</td>\n",
       "      <td>0.0</td>\n",
       "    </tr>\n",
       "    <tr>\n",
       "      <th>forest</th>\n",
       "      <td>0</td>\n",
       "      <td>0.0</td>\n",
       "    </tr>\n",
       "    <tr>\n",
       "      <th>fold</th>\n",
       "      <td>0</td>\n",
       "      <td>0.0</td>\n",
       "    </tr>\n",
       "    <tr>\n",
       "      <th>fd_maxv</th>\n",
       "      <td>0</td>\n",
       "      <td>0.0</td>\n",
       "    </tr>\n",
       "    <tr>\n",
       "      <th>fd</th>\n",
       "      <td>0</td>\n",
       "      <td>0.0</td>\n",
       "    </tr>\n",
       "    <tr>\n",
       "      <th>ele</th>\n",
       "      <td>0</td>\n",
       "      <td>0.0</td>\n",
       "    </tr>\n",
       "    <tr>\n",
       "      <th>country</th>\n",
       "      <td>0</td>\n",
       "      <td>0.0</td>\n",
       "    </tr>\n",
       "    <tr>\n",
       "      <th>caution</th>\n",
       "      <td>0</td>\n",
       "      <td>0.0</td>\n",
       "    </tr>\n",
       "    <tr>\n",
       "      <th>foot</th>\n",
       "      <td>0</td>\n",
       "      <td>0.0</td>\n",
       "    </tr>\n",
       "    <tr>\n",
       "      <th>ti</th>\n",
       "      <td>1</td>\n",
       "      <td>0.0</td>\n",
       "    </tr>\n",
       "    <tr>\n",
       "      <th>street</th>\n",
       "      <td>1250953</td>\n",
       "      <td>75.508</td>\n",
       "    </tr>\n",
       "    <tr>\n",
       "      <th>crevasse</th>\n",
       "      <td>1514568</td>\n",
       "      <td>91.42</td>\n",
       "    </tr>\n",
       "  </tbody>\n",
       "</table>\n",
       "</div>"
      ],
      "text/plain": [
       "          NAs (abs.) NAs (rel.)\n",
       "aspect             0        0.0\n",
       "snowshoe           0        0.0\n",
       "slope              0        0.0\n",
       "ski                0        0.0\n",
       "planc7             0        0.0\n",
       "lake               0        0.0\n",
       "id                 0        0.0\n",
       "glacier            0        0.0\n",
       "forest             0        0.0\n",
       "fold               0        0.0\n",
       "fd_maxv            0        0.0\n",
       "fd                 0        0.0\n",
       "ele                0        0.0\n",
       "country            0        0.0\n",
       "caution            0        0.0\n",
       "foot               0        0.0\n",
       "ti                 1        0.0\n",
       "street       1250953     75.508\n",
       "crevasse     1514568      91.42"
      ]
     },
     "metadata": {},
     "output_type": "display_data"
    }
   ],
   "source": [
    "# Exclude datapoints on lakes\n",
    "missing_info = {\n",
    "    col: [df[col].isnull().sum(), f'{np.round(np.mean(df[col].isnull()*100), 3)}'] \n",
    "    if df[col].isnull().any() \n",
    "    else [0, '0.0']\n",
    "    for col in df.columns\n",
    "}\n",
    "\n",
    "missing_df = pd.DataFrame.from_dict(missing_info, orient='index', columns=['NAs (abs.)', 'NAs (rel.)'])\n",
    "\n",
    "display(missing_df.sort_values(by=['NAs (abs.)'], ascending=True))"
   ]
  },
  {
   "cell_type": "markdown",
   "id": "e92a4a00",
   "metadata": {},
   "source": [
    "## **1.3 Missingness - Complete Case Analysis**"
   ]
  },
  {
   "cell_type": "markdown",
   "id": "dd68fef9",
   "metadata": {},
   "source": [
    "- Since the filter ‘country’ and ‘lake’ have eliminated the problem of missing values for the other variables, no further imputation is required for these.\n",
    "- A possible approach would have been ‘complete cases analysis’, where the observations with missing values were completely excluded from the data set.\n",
    "- This was done indirectly using the ‘country’ and ‘lake’ filters. \n",
    "- The imputation for the variables ‘street’ and ‘crevasse’ takes place in the data cleaning chapter."
   ]
  },
  {
   "cell_type": "code",
   "execution_count": 12,
   "id": "1bb77caa",
   "metadata": {},
   "outputs": [
    {
     "data": {
      "text/plain": [
       "<AxesSubplot:>"
      ]
     },
     "execution_count": 12,
     "metadata": {},
     "output_type": "execute_result"
    },
    {
     "data": {
      "image/png": "[encoded data removed]",
      "text/plain": [
       "<Figure size 1800x720 with 2 Axes>"
      ]
     },
     "metadata": {
      "needs_background": "light"
     },
     "output_type": "display_data"
    }
   ],
   "source": [
    "# Show matrix with missingness pattern (from msno library)\n",
    "msno.matrix(df)"
   ]
  },
  {
   "cell_type": "code",
   "execution_count": 13,
   "id": "d79135bb",
   "metadata": {},
   "outputs": [
    {
     "name": "stdout",
     "output_type": "stream",
     "text": [
      "Total number of observations: 1656719\n",
      "Number of complete cases: 1656718\n",
      "NAs to drop: 1\n",
      "NAs to drop (%): 0.00%\n"
     ]
    }
   ],
   "source": [
    "# Count complete cases (ex. 'street', 'crevasse', 'country')\n",
    "exclude_columns = ['crevasse', 'street', 'country']\n",
    "df_subset = df.drop(columns=exclude_columns)\n",
    "complete_cases_count = df_subset.dropna().shape[0]\n",
    "\n",
    "print('Total number of observations:', total_rows)\n",
    "print('Number of complete cases:', complete_cases_count)\n",
    "print('NAs to drop:', total_rows - complete_cases_count)\n",
    "percentage_na_to_drop = ((total_rows - complete_cases_count) / total_rows) * 100\n",
    "print('NAs to drop (%): {:.2f}%'.format(percentage_na_to_drop))"
   ]
  },
  {
   "cell_type": "markdown",
   "id": "fe6407a6",
   "metadata": {},
   "source": [
    "# <span style=\"color:#FF9999\">**2 Imputation**</span>"
   ]
  },
  {
   "cell_type": "markdown",
   "id": "ba7459c0-71a4-4fa2-96e2-1dfacc30669b",
   "metadata": {},
   "source": [
    "## **2.1 NA Imputation of 'street' and 'crevasse'**"
   ]
  },
  {
   "cell_type": "markdown",
   "id": "3f102a81-a7e5-4d3c-bc78-b7ecfb9ee5cc",
   "metadata": {},
   "source": [
    "- **street**: During sampling, QGIS generated a missing value for the variable 'street' if there was no street within a distance of 25 meters. The imputed value '4' therefore indicates that there is no street within 25 meters of the data point.\n",
    "- **crevasse**: A similar procedure is also used for the variable 'crevasse'. The missing values can be explained by the fact that a value in the interval 1 to 7 was only assigned to a data point if it is located on a glacier. A missing value therefore means that the data point is not located on a glacier and is therefore not a crevasse at all. The missing values can therefore be imputed with '0'. "
   ]
  },
  {
   "cell_type": "code",
   "execution_count": 14,
   "id": "06e999a3-66f2-4ae8-8ffa-5280fe1a34e8",
   "metadata": {},
   "outputs": [
    {
     "name": "stdout",
     "output_type": "stream",
     "text": [
      "NA count street:  1250953\n",
      "NA count crevasse:  1514568\n"
     ]
    }
   ],
   "source": [
    "# Count the missing values in the columns 'street' and 'crevasse'\n",
    "print('NA count street: ', df['street'].isna().sum())\n",
    "print('NA count crevasse: ', df['crevasse'].isna().sum())"
   ]
  },
  {
   "cell_type": "code",
   "execution_count": 15,
   "id": "590c8409-fde7-440f-9a7b-1461adb4f2cc",
   "metadata": {},
   "outputs": [],
   "source": [
    "# Replace NAs with 0 ('crevasse') respectively 4 ('street')\n",
    "df['crevasse'].fillna(0, inplace=True)\n",
    "df['street'].fillna(4, inplace=True)"
   ]
  },
  {
   "cell_type": "code",
   "execution_count": 16,
   "id": "a2ec8157-d31a-4fac-bd27-27c041728746",
   "metadata": {},
   "outputs": [
    {
     "name": "stdout",
     "output_type": "stream",
     "text": [
      "NA count street:  0\n",
      "NA count crevasse:  0\n"
     ]
    }
   ],
   "source": [
    "# Count again the missing values in the columns 'street' and 'crevasse' (Output should be = 0)\n",
    "print('NA count street: ', df['street'].isna().sum())\n",
    "print('NA count crevasse: ', df['crevasse'].isna().sum())"
   ]
  },
  {
   "cell_type": "markdown",
   "id": "8b15eb29-9b8a-46a1-88e8-98039148d666",
   "metadata": {},
   "source": [
    "## **2.2 NA Imputation of 'ti'**"
   ]
  },
  {
   "cell_type": "markdown",
   "id": "e70a21fb-e6be-44c2-a5dc-772e0b9f346d",
   "metadata": {},
   "source": [
    "- **ti**: The variable 'ti' has one single missing value. This can presumably be explained by the fact that the 'ti' layer has not stored a value at this point (due to a rare error during sampling). Therefore, a value is estimated for the value of this point based on its two neighbours. The neighbours are the points with an 'id' value +1/-1."
   ]
  },
  {
   "cell_type": "code",
   "execution_count": 17,
   "id": "fa559393-088c-4287-a23e-3ee67954c382",
   "metadata": {},
   "outputs": [
    {
     "name": "stdout",
     "output_type": "stream",
     "text": [
      "Corresponding id values for rows where ti has missing values:  [1682828]\n"
     ]
    }
   ],
   "source": [
    "# Filter rows where 'ti' has missing values (==> 1 NA)\n",
    "missing_ti = df[df['ti'].isnull()]\n",
    "ids = missing_ti['id'].tolist()\n",
    "\n",
    "print('Corresponding id values for rows where ti has missing values: ', ids)"
   ]
  },
  {
   "cell_type": "code",
   "execution_count": 18,
   "id": "375c3bfa-cdf3-48b2-9356-7d19c06e5fa3",
   "metadata": {},
   "outputs": [
    {
     "name": "stdout",
     "output_type": "stream",
     "text": [
      "Neighbour points: 1682827 1682829\n",
      "ti-value previous point: 0.382631033658981\n",
      "ti-value next point: 0.476035177707672\n",
      "ti-mean: 0.4293331056833265\n"
     ]
    }
   ],
   "source": [
    "# Get the neighbour points for 'id' \n",
    "prev_id = ids[0] -1\n",
    "next_id = ids[0] +1\n",
    "print('Neighbour points:', prev_id, next_id)\n",
    "\n",
    "# Find 'ti' values for prev_id and next_id\n",
    "prev_ti = None\n",
    "next_ti = None\n",
    "\n",
    "for index, row in df.iterrows():\n",
    "    if row['id'] == prev_id:\n",
    "        prev_ti = row['ti']\n",
    "    elif row['id'] == next_id:\n",
    "        next_ti = row['ti']\n",
    "        \n",
    "mean = (prev_ti + next_ti) / 2\n",
    "\n",
    "# Print the 'ti' values\n",
    "print('ti-value previous point:', prev_ti)\n",
    "print('ti-value next point:', next_ti)\n",
    "print('ti-mean:', mean)"
   ]
  },
  {
   "cell_type": "code",
   "execution_count": 19,
   "id": "46471cd7-c490-49f8-9e09-57f79669d169",
   "metadata": {},
   "outputs": [
    {
     "name": "stdout",
     "output_type": "stream",
     "text": [
      "The updated ti value for the point with id 1682828 is: 0.4293331056833265\n",
      "NA count ti:  0\n"
     ]
    }
   ],
   "source": [
    "# Specify point id for imputation\n",
    "id = 1682828\n",
    "\n",
    "# Imputation: Update 'ti' for the specific 'id'\n",
    "df.loc[df['id'] == id, 'ti'] = mean\n",
    "\n",
    "# Perform plausibility check on imputation\n",
    "updated_ti_value = df.loc[df['id'] == id, 'ti'].values[0]\n",
    "na_count = df['ti'].isna().sum()\n",
    "print(f'The updated ti value for the point with id {id} is: {updated_ti_value}')\n",
    "print('NA count ti: ', df['crevasse'].isna().sum())"
   ]
  },
  {
   "cell_type": "markdown",
   "id": "f8d367ce",
   "metadata": {},
   "source": [
    "# <span style=\"color:#FF9999\">**3 Discretization**</span>"
   ]
  },
  {
   "cell_type": "markdown",
   "id": "2eb7103a",
   "metadata": {},
   "source": [
    "## **3.1 Idea of binary variables 'aspect_binary' and 'street_binary'**"
   ]
  },
  {
   "cell_type": "markdown",
   "id": "57e513af",
   "metadata": {},
   "source": [
    "- The variables 'aspect' and 'street' are discretized into binary variables before modelling.\n",
    "- **aspect**: In the raw data set, the variable 'aspect' is on a scale from 0° to 360°. As the literature repeatedly described the orientations northwest to north to northeast as being prone to unstable snow layers, this variable is transformed into a binary variable. Therefore, if the value is between 315° to 360° and 0° to 45°, the newly transformed variable 'aspect_binary' has the value '1'. For values between 45° and 315°, the variable has the value '0'.\n",
    "- **street**: The variable 'street' gives an indication of how far away the data point is from the next street within 25 meters. In the raw data set, the variable consists of an already discrete interval with the values '1' (next street within 0 to 5 meters), '2' (next street within 5 to 15 meters), '3' (next street within 15 to 25 meters) and '4' (no street within 0 to 25 meters). Nonetheless, the variable 'street' is further transformed to the variable 'street_binary', which is a binary variable and has the value '0' if no street is within 0 to 25 meters. If there is a street within 25 meters, the variable has the value '1'.\n",
    "- The ideas are visualized below."
   ]
  },
  {
   "cell_type": "code",
   "execution_count": 20,
   "id": "79566552-d70c-482e-8b8a-f6025e83221c",
   "metadata": {},
   "outputs": [
    {
     "data": {
      "image/png": "[encoded data removed]",
      "text/plain": [
       "<Figure size 432x288 with 1 Axes>"
      ]
     },
     "metadata": {},
     "output_type": "display_data"
    }
   ],
   "source": [
    "# Plot idea of binary sector expositions\n",
    "angles = [-90, 90, 180, 270]\n",
    "labels = ['N', 'W', 'S', 'E']\n",
    "\n",
    "widths = [(angles[i + 1] - angles[i]) for i in range(len(angles) - 1)]\n",
    "widths.append(360 - angles[-1])  # Add the last sector\n",
    "fig, ax = plt.subplots()\n",
    "cols = ['#FF9999', '#ADD8E6', '#ADD8E6', '#ADD8E6']\n",
    "patches, texts = ax.pie(widths, labels=labels, startangle=17.99, colors=cols)\n",
    "\n",
    "for patch in patches:\n",
    "    patch.set_edgecolor('grey')\n",
    "\n",
    "ax.axis('equal')\n",
    "\n",
    "plt.show()\n",
    "fig.savefig('../plots/aspects_cat.png')"
   ]
  },
  {
   "cell_type": "code",
   "execution_count": 21,
   "id": "d0adae53-1172-4817-bb28-1640702a538d",
   "metadata": {},
   "outputs": [
    {
     "data": {
      "image/png": "[encoded data removed]",
      "text/plain": [
       "<Figure size 432x288 with 1 Axes>"
      ]
     },
     "metadata": {},
     "output_type": "display_data"
    }
   ],
   "source": [
    "# Plot idea of binary street\n",
    "x_data = np.array([1, 2, 3, 4, 5])\n",
    "y_data = np.array([1, 2, 3, 4, 5])\n",
    "\n",
    "point_index = 2\n",
    "x_line_point = x_data[point_index]\n",
    "y_line_point = y_data[point_index]\n",
    "x_line = np.linspace(0, 10, 100)\n",
    "y_line = np.full_like(x_line, y_line_point)\n",
    "\n",
    "fig, ax = plt.subplots()\n",
    "ax.scatter(x_data, y_data, color='#ADD8E6', label='Not within 25m distance')  # Blue color\n",
    "line, = ax.plot(x_line, y_line, color='black', linewidth=3, label='Street')\n",
    "min_y_line = y_line.min()\n",
    "max_y_line = y_line.max()\n",
    "ax.fill_between(x_line, min_y_line, min_y_line-1, color='grey', alpha=0.3)\n",
    "ax.fill_between(x_line, max_y_line, max_y_line+1, color='grey', alpha=0.3)\n",
    "ax.scatter(x_line_point, y_line_point, color='#ADD8E6')  # Blue color\n",
    "middle_indices = [1, 2, 3]\n",
    "ax.scatter(x_data[middle_indices], y_data[middle_indices], color='#FF9999', label='Within 25m distance')  # Red color\n",
    "ax.set_xticks([])\n",
    "ax.set_yticks([])\n",
    "\n",
    "ax.legend(loc='lower right')\n",
    "\n",
    "plt.show()\n",
    "fig.savefig('../plots/street_cat.png')"
   ]
  },
  {
   "cell_type": "markdown",
   "id": "706ede69",
   "metadata": {},
   "source": [
    "## **3.2 Discretize the variable 'aspect' to 'aspect_binary'**"
   ]
  },
  {
   "cell_type": "code",
   "execution_count": 22,
   "id": "17615eb5-3978-4024-8283-a1093060d1f6",
   "metadata": {},
   "outputs": [],
   "source": [
    "# Count values between 45° and 315° (later converted to '0')\n",
    "mask = (df['aspect'] > 45) & (df['aspect'] < 315)\n",
    "filtered_df = df[mask]\n",
    "count_before = filtered_df.shape[0]"
   ]
  },
  {
   "cell_type": "code",
   "execution_count": 23,
   "id": "2400919f-64c3-4056-9416-7b58030c54ca",
   "metadata": {},
   "outputs": [],
   "source": [
    "# Create new variable 'aspect_binary'\n",
    "# Define the conditions and corresponding values\n",
    "conditions = [(df['aspect'] >= 0) & (df['aspect'] <= 45),\n",
    "              (df['aspect'] >= 315) & (df['aspect'] <= 360),\n",
    "              (df['aspect'] > 45) & (df['aspect'] < 315)]\n",
    "values = [1, 1, 0]\n",
    "\n",
    "# Initialize 'aspect_binary' column with default value\n",
    "df['aspect_binary'] = None\n",
    "\n",
    "# Iterate through conditions and values, updating 'aspect_binary' column accordingly\n",
    "for condition, value in zip(conditions, values):\n",
    "    df.loc[condition, 'aspect_binary'] = value\n",
    "\n",
    "# Convert 'aspect_binary' column to integer type\n",
    "df['aspect_binary'] = df['aspect_binary'].astype(int)\n"
   ]
  },
  {
   "cell_type": "code",
   "execution_count": 24,
   "id": "f8aa06b6-6599-42f8-ae69-08c2e6acbec6",
   "metadata": {},
   "outputs": [
    {
     "name": "stdout",
     "output_type": "stream",
     "text": [
      "Min should be 0, Max should be 1:\n",
      "Min: 0\n",
      "Max: 1\n",
      "\n",
      "Following output should be the same:\n",
      "Before: 1233456\n",
      "After: 1233456\n"
     ]
    }
   ],
   "source": [
    "# Perform some plausbility checks\n",
    "count_after = df['aspect_binary'].value_counts().get(0, 0)\n",
    "\n",
    "print('Min should be 0, Max should be 1:')\n",
    "print('Min:', df['aspect_binary'].min())\n",
    "print('Max:', df['aspect_binary'].max())\n",
    "print('\\nFollowing output should be the same:')\n",
    "print('Before:', count_before)\n",
    "print('After:', count_after)"
   ]
  },
  {
   "cell_type": "markdown",
   "id": "f4a0d1ab",
   "metadata": {},
   "source": [
    "## **3.3 Discretize the variable 'street' to 'street_binary'**"
   ]
  },
  {
   "cell_type": "code",
   "execution_count": 25,
   "id": "ceb6fb09-5290-43ea-a588-9533e38df219",
   "metadata": {},
   "outputs": [
    {
     "name": "stdout",
     "output_type": "stream",
     "text": [
      "380359\n"
     ]
    }
   ],
   "source": [
    "# Count values smaller than 4 (later converted to '1')\n",
    "mask = (df['street'] < 4)\n",
    "filtered_df = df[mask]\n",
    "count_before = filtered_df.shape[0]\n",
    "print(count_before)"
   ]
  },
  {
   "cell_type": "code",
   "execution_count": 26,
   "id": "d939c0e6-9377-4407-8d39-9c2d15ae9490",
   "metadata": {},
   "outputs": [],
   "source": [
    "# Create new variable 'street_binary'\n",
    "# Define the conditions and corresponding values\n",
    "conditions = [(df['street'] < 4),\n",
    "              (df['street'] == 4)]\n",
    "values = [1, 0]\n",
    "\n",
    "# Initialize 'street_binary' column with default value\n",
    "df['street_binary'] = None\n",
    "\n",
    "# Iterate through conditions and values, updating 'street_binary' column accordingly\n",
    "for condition, value in zip(conditions, values):\n",
    "    df.loc[condition, 'street_binary'] = value\n",
    "\n",
    "# Convert 'street_binary' column to integer type\n",
    "df['street_binary'] = df['street_binary'].astype(int)\n"
   ]
  },
  {
   "cell_type": "code",
   "execution_count": 27,
   "id": "e8d6e334",
   "metadata": {},
   "outputs": [
    {
     "name": "stdout",
     "output_type": "stream",
     "text": [
      "Min should be 0, Max should be 1:\n",
      "Min: 0\n",
      "Max: 1\n",
      "\n",
      "Following output should be the same:\n",
      "Before: 380359\n",
      "After: 380359\n"
     ]
    }
   ],
   "source": [
    "# Perform some plausbility checks\n",
    "count_after = df['street_binary'].value_counts().get(1, 0)\n",
    "\n",
    "print('Min should be 0, Max should be 1:')\n",
    "print('Min:', df['street_binary'].min())\n",
    "print('Max:', df['street_binary'].max())\n",
    "print('\\nFollowing output should be the same:')\n",
    "print('Before:', count_before)\n",
    "print('After:', count_after)"
   ]
  },
  {
   "cell_type": "code",
   "execution_count": 28,
   "id": "f630e713",
   "metadata": {},
   "outputs": [],
   "source": [
    "# Drop the columns 'aspect' and 'street'\n",
    "df.drop('aspect', axis=1, inplace=True)\n",
    "df.drop('street', axis=1, inplace=True)"
   ]
  },
  {
   "cell_type": "markdown",
   "id": "8e129e12",
   "metadata": {},
   "source": [
    "# <span style=\"color:#FF9999\">**4 Transformation**</span>"
   ]
  },
  {
   "cell_type": "markdown",
   "id": "5a97a692",
   "metadata": {},
   "source": [
    "## **4.1 Create new variable 'fd_risk'**"
   ]
  },
  {
   "cell_type": "markdown",
   "id": "0bdb408e",
   "metadata": {},
   "source": [
    "Risk is defined as the product (multiplication) of the probability of an event and the consequences of the same event. The \"event\" in question here is the fall of a skier. Now it is neither possible to calculate the exact probability nor the exact consequences of a fall, but we can look for and find proxies for these two variables.\n",
    "\n",
    "- **Probability of a crash**: The higher the slope, the more likely a crash. The inclination at a point in the terrain serves us here as a proxy for the probability of a fall. We do not know whether the relationship is linear. It is therefore a simplification.\n",
    "- **Consequences of a fall**: We can mentally drop an object weighing 70 kg from any point in the terrain (e.g. every 10 m) and record the velocities or accelerations during the fall. High speeds and high accelerations presumably lead to more serious consequences (injuries). During the development of Avalanche Terrain Hazard (ATH) at the SLF, Skitourenguru developed a corresponding physical fall model. Five variables were calculated. During the subsequent data analysis by Skitourenguru, it was repeatedly shown that the maximum crash velocity achieved has the highest quality of these five variables. We therefore use the maximum speed during the crash as a proxy for the consequences of a crash. This is also a simplification.\n",
    "\n",
    "If we multiply these two variables (inclination and maximum fall velocity) we obtain an indication of the fall risk. Source: https://info.skitourenguru.ch/index.php/fdrisk"
   ]
  },
  {
   "cell_type": "code",
   "execution_count": 29,
   "id": "d54791d5",
   "metadata": {},
   "outputs": [],
   "source": [
    "# Calculate variable\n",
    "df['fd_risk'] = df['fd_maxv'] * df['slope']"
   ]
  },
  {
   "cell_type": "code",
   "execution_count": 30,
   "id": "5962bd11",
   "metadata": {},
   "outputs": [],
   "source": [
    "# Sort columns alphabetically\n",
    "df = df.reindex(sorted(df.columns), axis=1)"
   ]
  },
  {
   "cell_type": "code",
   "execution_count": 31,
   "id": "f1fa4e73-a5ec-4de5-bbba-06bacb1c9ef0",
   "metadata": {},
   "outputs": [],
   "source": [
    "# Save df for segments (before point distance is applied)\n",
    "df.to_csv('../data/Stage_2_segments.csv', index=False)"
   ]
  },
  {
   "cell_type": "markdown",
   "id": "fa8c4f31",
   "metadata": {},
   "source": [
    "# <span style=\"color:#FF9999\">**5 Point distance**</span>"
   ]
  },
  {
   "cell_type": "markdown",
   "id": "cea99520",
   "metadata": {},
   "source": [
    "## **5.1 Assessing point distance on autocorrelation**"
   ]
  },
  {
   "cell_type": "markdown",
   "id": "dd17e22e",
   "metadata": {},
   "source": [
    "- Because the points were sampled consecutively every 10 metres along the ski routes, the features of neighbouring points are relatively similar due to the small distance.\n",
    "- This leads to a certain autocorrelation because the value of, for example, the point with \"id\" 5 depends on the point with \"id\" 4.\n",
    "- Günter Schmudlach clarified this with an expert and the conclusion was that a point distance of just 100 metres could solve this problem (10m ==> new 100m).\n",
    "- This statement was analysed qualitatively below using the two charts. In the second graph (distances 100m) it is clearly recognisable that the dependency on the previous point is decreasing compared to the first graph (distances 10m).\n",
    "- Slicing was used to modify the data set so that only every tenth point was taken into account. This results in the data set being ten times smaller. From the original 1'656'719 points with a distance of 10 metres, 165'672 points with a new distance of 100 metres now remain."
   ]
  },
  {
   "cell_type": "code",
   "execution_count": 32,
   "id": "54a97ad5",
   "metadata": {},
   "outputs": [
    {
     "data": {
      "text/plain": [
       "0    1\n",
       "1    2\n",
       "2    3\n",
       "3    4\n",
       "4    5\n",
       "Name: id, dtype: int64"
      ]
     },
     "metadata": {},
     "output_type": "display_data"
    },
    {
     "name": "stdout",
     "output_type": "stream",
     "text": [
      "Number of rows: 1656719\n"
     ]
    }
   ],
   "source": [
    "# Sort ascending by \"id\"\n",
    "df = df.sort_values(by=\"id\")\n",
    "df = df.reset_index(drop=True)\n",
    "display(df['id'].head())\n",
    "\n",
    "num_rows = df.shape[0]\n",
    "print('Number of rows:', num_rows)"
   ]
  },
  {
   "cell_type": "code",
   "execution_count": 33,
   "id": "526d538e",
   "metadata": {},
   "outputs": [
    {
     "data": {
      "text/plain": [
       "0      1\n",
       "10    11\n",
       "20    21\n",
       "30    31\n",
       "40    41\n",
       "Name: id, dtype: int64"
      ]
     },
     "metadata": {},
     "output_type": "display_data"
    }
   ],
   "source": [
    "# Filter every 10th point (==> resulting in 100m distance instead of 10m. ID-Increment = 100)\n",
    "df_every_10th = df.iloc[::10]\n",
    "display(df_every_10th['id'].head())"
   ]
  },
  {
   "cell_type": "code",
   "execution_count": 34,
   "id": "62961847",
   "metadata": {},
   "outputs": [
    {
     "data": {
      "text/plain": [
       "0     1\n",
       "1    11\n",
       "2    21\n",
       "3    31\n",
       "4    41\n",
       "Name: id, dtype: int64"
      ]
     },
     "metadata": {},
     "output_type": "display_data"
    },
    {
     "name": "stdout",
     "output_type": "stream",
     "text": [
      "Number of rows: 165672\n"
     ]
    }
   ],
   "source": [
    "# Reset index\n",
    "df_every_10th = df_every_10th.reset_index(drop=True)\n",
    "display(df_every_10th['id'].head())\n",
    "\n",
    "num_rows = df_every_10th.shape[0]\n",
    "print('Number of rows:', num_rows)"
   ]
  },
  {
   "cell_type": "code",
   "execution_count": 35,
   "id": "b40761c0",
   "metadata": {},
   "outputs": [
    {
     "data": {
      "image/png": "[encoded data removed]",
      "text/plain": [
       "<Figure size 720x432 with 1 Axes>"
      ]
     },
     "metadata": {
      "needs_background": "light"
     },
     "output_type": "display_data"
    },
    {
     "data": {
      "image/png": "[encoded data removed]",
      "text/plain": [
       "<Figure size 720x432 with 1 Axes>"
      ]
     },
     "metadata": {
      "needs_background": "light"
     },
     "output_type": "display_data"
    }
   ],
   "source": [
    "# Create plots\n",
    "data = [(df, 'First 1000 route points (point distance = 10m)'), (df_every_10th, 'First 1000 route points (point distance = 100m)')]\n",
    "\n",
    "for dataset, title in data:\n",
    "    distance = title.split('=')[-1].strip(')').strip()\n",
    "    plt.figure(figsize=(10, 6))\n",
    "    plt.scatter(range(len(dataset[:1000])), dataset['slope'][:1000], marker='o', s=5, color='#ADD8E6', label='slope')\n",
    "    plt.title(title, fontsize=14, fontweight='bold')\n",
    "    plt.xlabel('index', fontsize=12)\n",
    "    plt.ylabel('slope', fontsize=12)\n",
    "    plt.legend()\n",
    "    plt.grid(True)\n",
    "    plt.savefig(f'../plots/correlation_{distance}.png')  # Adjusted savefig filename\n",
    "    plt.show()"
   ]
  },
  {
   "cell_type": "code",
   "execution_count": 36,
   "id": "1e85e361",
   "metadata": {},
   "outputs": [],
   "source": [
    "df = df_every_10th.copy()"
   ]
  },
  {
   "cell_type": "code",
   "execution_count": 36,
   "id": "4ba1040d-4053-4836-bb1b-7157e9499e3a",
   "metadata": {},
   "outputs": [],
   "source": [
    "# Only use this output for the second Jupyter Notebook (Visual analysis)\n",
    "# Don't use the output for modelling!\n",
    "# df.to_csv('../data/Stage_2.csv', index = False)"
   ]
  }
 ],
 "metadata": {
  "kernelspec": {
   "display_name": "Python 3 (ipykernel)",
   "language": "python",
   "name": "python3"
  },
  "language_info": {
   "codemirror_mode": {
    "name": "ipython",
    "version": 3
   },
   "file_extension": ".py",
   "mimetype": "text/x-python",
   "name": "python",
   "nbconvert_exporter": "python",
   "pygments_lexer": "ipython3",
   "version": "3.9.12"
  }
 },
 "nbformat": 4,
 "nbformat_minor": 5
}
